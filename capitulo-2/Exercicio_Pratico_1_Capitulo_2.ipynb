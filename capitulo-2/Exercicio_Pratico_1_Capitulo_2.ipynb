{
 "cells": [
  {
   "cell_type": "markdown",
   "metadata": {},
   "source": [
    "### Ex. 2.7: Implemente um simulador de ambiente de medição de desempenho para o mundo do aspirador de pó (Figura 22 e também página 37). Sua implementação deve ser modular, de forma que os sensores, os atuadores e as características do ambiente (tamanho, localização da sujeira, ... ) possam ser alterados com facilidade. \n",
    "\n",
    "pág 37.\n",
    "\n",
    "a) **Medida de Desempenho:** A medida de desempenho oferece o prêmio de um ponto para cada sala limpa em cada período de tempo ao longo de uma duração de mil períodos de tempo.\n",
    "\n",
    "b) **Conhecimento a priori:** A geografia do ambiente não é conhecida a priori (Figura 2.2), a distribuição da sujeira e a posição inicial do agente não são previamente conhecidas. O ambiente para o agente é parcialmente observável. A aspiração limpa o quadrado atual. As ações esquerda e direita movem o agente para a esquerda e para a direita, exceto quando isso tenta levar o agente para fora do ambiente; nesse caso, o agente permanece onde está. \n",
    "\n",
    "c) **Ações do agente:** Esquerda, Direita, Limpar e NoOp (fazer nada).\n",
    "\n",
    "d) **Percepções:** O agente percebe corretamente sua posição e se esta posição contém sujeita.\n",
    "\n",
    "fig 2.7\n",
    "\n",
    "Ambiente um mundo do aspirador de pó com apenas duas salas. Estas que por sua vez, podem estar limpas ou não conforme o tempo passa. A sujeira pode surgir de modo espontâneo por fins de simulação. \n",
    "\n",
    "Agora, implemente um agente reativo simples para este ambiente. Execute o simulador de ambiente com este agente para todas as configuraçoes iniciais possíveis de sujeira e posições do agente. Registre a pontuação  de desempenho do agente para cada configuração e sua pontuação média global."
   ]
  },
  {
   "cell_type": "markdown",
   "metadata": {},
   "source": [
    "## Importes"
   ]
  },
  {
   "cell_type": "code",
   "execution_count": 1,
   "metadata": {},
   "outputs": [],
   "source": [
    "import random as rd"
   ]
  },
  {
   "cell_type": "markdown",
   "metadata": {},
   "source": [
    "## Classe do Ambiente"
   ]
  },
  {
   "cell_type": "code",
   "execution_count": 2,
   "metadata": {},
   "outputs": [],
   "source": [
    "class Ambiente():\n",
    "\n",
    "    def __init__(self, salas):\n",
    "        self.salas = salas\n",
    "\n",
    "    def sujarSala(self):\n",
    "        for i in range(self.tamanho()):\n",
    "            if rd.randint(1, 10) > 6:\n",
    "                self.salas[i] = 1\n",
    "\n",
    "\n",
    "    def estaSujo(self, pos: int):\n",
    "\n",
    "        return self.salas[pos] == 1\n",
    "\n",
    "    def removerSujeira(self, i: int):\n",
    "        self.salas[i] = 0\n",
    "\n",
    "    def imprimirSalas(self):\n",
    "        print(self.salas)\n",
    "\n",
    "    def ehParede(self, pos):\n",
    "        return pos >= self.tamanho() or pos < 0;\n",
    "\n",
    "    def tamanho(self):\n",
    "        return len(self.salas)"
   ]
  },
  {
   "cell_type": "markdown",
   "metadata": {},
   "source": [
    "## Classe do Aspirador"
   ]
  },
  {
   "cell_type": "code",
   "execution_count": 3,
   "metadata": {},
   "outputs": [],
   "source": [
    "class Aspirador():\n",
    "\n",
    "    def __init__(self, amb: Ambiente, pos: int):\n",
    "\n",
    "        self.ambiente = amb\n",
    "\n",
    "        self.posAspirador = pos\n",
    "\n",
    "        self.pontuacao = 0\n",
    "\n",
    "    def iniciarLimpeza(self, interacoes: int):\n",
    "        i = 1\n",
    "        direcao = 1\n",
    "        # direcao == 1 -> direita\n",
    "        # direcao == 0 -> esquerda\n",
    "\n",
    "        while i <= interacoes:\n",
    "\n",
    "            if self.ambiente.estaSujo(self.posAspirador):\n",
    "                self.__limpar()\n",
    "                self.__adicionarPontuacao()\n",
    "\n",
    "            elif direcao:\n",
    "                direcao = self.__moverDireita()\n",
    "            else:\n",
    "                direcao = self.__moverEsquerda()\n",
    "\n",
    "            self.ambiente.sujarSala()\n",
    "            i += 1\n",
    "\n",
    "    def pontuacao(self):\n",
    "        return self.pontuacao\n",
    "\n",
    "    def __moverDireita(self):\n",
    "        if self.ambiente.ehParede(self.posAspirador + 1): # NoOp\n",
    "            return 0 # Muda de direcao\n",
    "        else: # Direita\n",
    "            self.posAspirador += 1\n",
    "            return 1\n",
    "\n",
    "    def __moverEsquerda(self):\n",
    "        if self.ambiente.ehParede(self.posAspirador - 1): # NoOp\n",
    "            return 1 # Muda de direcao\n",
    "        else: # Esquerda\n",
    "            self.posAspirador -= 1\n",
    "            return 0\n",
    "\n",
    "    def __limpar(self):\n",
    "        self.ambiente.removerSujeira(self.posAspirador)\n",
    "\n",
    "    def __adicionarPontuacao(self):\n",
    "        self.pontuacao += 1"
   ]
  },
  {
   "cell_type": "markdown",
   "metadata": {},
   "source": [
    "## Main"
   ]
  },
  {
   "cell_type": "code",
   "execution_count": 4,
   "metadata": {},
   "outputs": [
    {
     "name": "stdout",
     "output_type": "stream",
     "text": [
      "Caso 1:\n",
      "Sala: [Limpo , Limpo]\n",
      "Posição inicial do agente: 0\n",
      "Pontuação = 524\n",
      "\n",
      "Caso 2:\n",
      "Sala: [Limpo , Sujo]\n",
      "Posição inicial do agente: 0\n",
      "Pontuação = 515\n",
      "\n",
      "Caso 3:\n",
      "Sala: [Sujo , Limpo]\n",
      "Posição inicial do agente: 0\n",
      "Pontuação = 487\n",
      "\n",
      "Caso 4:\n",
      "Sala: [Sujo , Sujo]\n",
      "Posição inicial do agente: 0\n",
      "Pontuação = 519\n",
      "\n",
      "Caso 5:\n",
      "Sala: [Limpo , Limpo]\n",
      "Posição inicial do agente: 1\n",
      "Pontuação = 532\n",
      "\n",
      "Caso 6:\n",
      "Sala: [Limpo , Sujo]\n",
      "Posição inicial do agente: 1\n",
      "Pontuação = 512\n",
      "\n",
      "Caso 7:\n",
      "Sala: [Sujo , Limpo]\n",
      "Posição inicial do agente: 1\n",
      "Pontuação = 536\n",
      "\n",
      "Caso 8:\n",
      "Sala: [Sujo , Sujo]\n",
      "Posição inicial do agente: 1\n",
      "Pontuação = 512\n",
      "\n",
      "Média total: 517.12\n"
     ]
    }
   ],
   "source": [
    "def __executar():\n",
    "    i = soma = 0\n",
    "    cont = 1\n",
    "    status = ['Limpo', 'Sujo']\n",
    "    rd.seed(7)\n",
    "\n",
    "    while i < 2:\n",
    "        j = 0\n",
    "        sala = [[0, 0], [0, 1], [1, 0], [1, 1]]\n",
    "        while j < 4:\n",
    "            amb = Ambiente(sala[j])\n",
    "            agnt = Aspirador(amb, i)\n",
    "\n",
    "            print(f'Caso {cont}:\\nSala: [{status[sala[j][0]]} , {status[sala[j][1]]}]\\nPosição inicial do agente: {i}')\n",
    "\n",
    "            agnt.iniciarLimpeza(1000)\n",
    "            val = agnt.pontuacao\n",
    "            soma += val\n",
    "            print(f'Pontuação = {val}\\n')\n",
    "\n",
    "            j += 1\n",
    "            cont += 1\n",
    "        i += 1\n",
    "\n",
    "    print(f'Média total: {soma / 8 :.2f}')\n",
    "\n",
    "if __name__ == '__main__':\n",
    "    __executar()"
   ]
  }
 ],
 "metadata": {
  "kernelspec": {
   "display_name": "Python 3 (ipykernel)",
   "language": "python",
   "name": "python3"
  },
  "language_info": {
   "codemirror_mode": {
    "name": "ipython",
    "version": 3
   },
   "file_extension": ".py",
   "mimetype": "text/x-python",
   "name": "python",
   "nbconvert_exporter": "python",
   "pygments_lexer": "ipython3",
   "version": "3.8.10"
  }
 },
 "nbformat": 4,
 "nbformat_minor": 4
}
