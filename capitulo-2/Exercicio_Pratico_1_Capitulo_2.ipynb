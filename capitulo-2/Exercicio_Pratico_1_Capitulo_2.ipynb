{
 "cells": [
  {
   "cell_type": "markdown",
   "metadata": {},
   "source": [
    "### Ex. 2.7: Implemente um simulador de ambiente de medição de desempenho para o mundo do aspirador de pó (Figura 22 e também página 37). Sua implementação deve ser modular, de forma que os sensores, os atuadores e as características do ambiente (tamanho, localização da sujeira, ... ) possam ser alterados com facilidade. \n",
    "\n",
    "pág 37.\n",
    "\n",
    "a) **Medida de Desempenho:** A medida de desempenho oferece o prêmio de um ponto para cada sala limpa em cada período de tempo ao longo de uma duração de mil períodos de tempo.\n",
    "\n",
    "b) **Conhecimento a priori:** A geografia do ambiente não é conhecida a priori (Figura 2.2), a distribuição da sujeira e a posição inicial do agente não são previamente conhecidas. O ambiente para o agente é parcialmente observável. A aspiração limpa o quadrado atual. As ações esquerda e direita movem o agente para a esquerda e para a direita, exceto quando isso tenta levar o agente para fora do ambiente; nesse caso, o agente permanece onde está. \n",
    "\n",
    "c) **Ações do agente:** Esquerda, Direita, Limpar e NoOp (fazer nada).\n",
    "\n",
    "d) **Percepções:** O agente percebe corretamente sua posição e se esta posição contém sujeita.\n",
    "\n",
    "fig 2.7\n",
    "\n",
    "Ambiente um mundo do aspirador de pó com apenas duas salas. Estas que por sua vez, podem estar limpas ou não conforme o tempo passa. A sujeira pode surgir de modo espontâneo por fins de simulação. \n",
    "\n",
    "Agora, implemente um agente reativo simples para este ambiente. Execute o simulador de ambiente com este agente para todas as configuraçoes iniciais possíveis de sujeira e posições do agente. Registre a pontuação  de desempenho do agente para cada configuração e sua pontuação média global."
   ]
  },
  {
   "cell_type": "markdown",
   "metadata": {},
   "source": [
    "## Importes"
   ]
  },
  {
   "cell_type": "code",
   "execution_count": 1,
   "metadata": {},
   "outputs": [],
   "source": [
    "import random as rd"
   ]
  },
  {
   "cell_type": "markdown",
   "metadata": {},
   "source": [
    "## Classe do Ambiente"
   ]
  },
  {
   "cell_type": "code",
   "execution_count": 2,
   "metadata": {},
   "outputs": [],
   "source": [
    "class Ambiente():\n",
    "\n",
    "    def __init__(self, salas):\n",
    "        self.salas = salas\n",
    "\n",
    "    def sujarSala(self):\n",
    "        for i in range(len(self.salas)):\n",
    "            if rd.randint(0,1) and self.salas[i] != 1:\n",
    "                self.salas[i] = 1\n",
    "\n",
    "\n",
    "    def estaSujo(self, pos: int):\n",
    "\n",
    "        return self.salas[pos] == 1\n",
    "\n",
    "    def removerSujeira(self, i: int):\n",
    "        self.salas[i] = 0\n",
    "\n",
    "    def imprimirSalas(self):\n",
    "        print(self.salas)\n",
    "\n",
    "    def ehParede(self, pos):\n",
    "        return pos >= self.tamanho() or pos < 0;\n",
    "\n",
    "    def tamanho(self):\n",
    "        return len(self.salas)"
   ]
  },
  {
   "cell_type": "markdown",
   "metadata": {},
   "source": [
    "## Classe do Aspirador"
   ]
  },
  {
   "cell_type": "code",
   "execution_count": 3,
   "metadata": {},
   "outputs": [],
   "source": [
    "class Aspidador():\n",
    "\n",
    "    def __init__(self, amb: Ambiente, pos: int):\n",
    "\n",
    "        self.ambiente = amb\n",
    "\n",
    "        self.posAspirador = pos\n",
    "\n",
    "        self.pontuacao = 0\n",
    "\n",
    "    def iniciarLimpeza(self, interacoes: int):\n",
    "        i = 1\n",
    "        direcao = 1\n",
    "        # direcao == 1 -> direita\n",
    "        # direcao == 0 -> esquerda\n",
    "\n",
    "        while i <= interacoes:\n",
    "\n",
    "            if self.ambiente.estaSujo(self.posAspirador):\n",
    "                self.__limpar()\n",
    "                self.__adicionarPontuacao()\n",
    "\n",
    "            elif direcao:\n",
    "                direcao = self.__moverDireita()\n",
    "            else:\n",
    "                direcao = self.__moverEsquerda()\n",
    "\n",
    "            self.ambiente.sujarSala()\n",
    "            i += 1\n",
    "\n",
    "    def pontuacao(self):\n",
    "        return self.pontuacao\n",
    "\n",
    "    def __moverDireita(self):\n",
    "        if self.ambiente.ehParede(self.posAspirador + 1): # NoOp\n",
    "            return 0 # Muda de direcao\n",
    "        else: # Direita\n",
    "            self.posAspirador += 1\n",
    "            return 1\n",
    "\n",
    "    def __moverEsquerda(self):\n",
    "        if self.ambiente.ehParede(self.posAspirador - 1): # NoOp\n",
    "            return 1 # Muda de direcao\n",
    "        else: # Esquerda\n",
    "            self.posAspirador -= 1\n",
    "            return 0\n",
    "\n",
    "    def __limpar(self):\n",
    "        self.ambiente.removerSujeira(self.posAspirador)\n",
    "\n",
    "    def __adicionarPontuacao(self):\n",
    "        self.pontuacao += 1"
   ]
  },
  {
   "cell_type": "markdown",
   "metadata": {},
   "source": [
    "## Classe main"
   ]
  },
  {
   "cell_type": "code",
   "execution_count": 4,
   "metadata": {},
   "outputs": [
    {
     "name": "stdout",
     "output_type": "stream",
     "text": [
      "Caso 1: \n",
      "Pontuação = 613\n",
      "\n",
      "Caso 2: \n",
      "Pontuação = 587\n",
      "\n",
      "Caso 3: \n",
      "Pontuação = 591\n",
      "\n",
      "Caso 4: \n",
      "Pontuação = 601\n",
      "\n",
      "Caso 5: \n",
      "Pontuação = 591\n",
      "\n",
      "Caso 6: \n",
      "Pontuação = 604\n",
      "\n",
      "Caso 7: \n",
      "Pontuação = 606\n",
      "\n",
      "Caso 8: \n",
      "Pontuação = 591\n",
      "\n",
      "Média total: 598.00\n"
     ]
    }
   ],
   "source": [
    "class main():\n",
    "\n",
    "    # 0 == Limpo\n",
    "    # 1 == Sujo\n",
    "\n",
    "    salas = [[0, 0], [0, 1], [1, 0], [1, 1]]\n",
    "\n",
    "    amb = [Ambiente(salas[0]), Ambiente(salas[1]), Ambiente(salas[2]), Ambiente(salas[3])]\n",
    "\n",
    "    agnt = [Aspidador(amb[0], 0), Aspidador(amb[1], 0), Aspidador(amb[2], 0), Aspidador(amb[3], 0),\n",
    "            Aspidador(amb[0], 1), Aspidador(amb[1], 1), Aspidador(amb[2], 1), Aspidador(amb[3], 1)]\n",
    "\n",
    "    i = 0\n",
    "    val = 0\n",
    "    soma = 0\n",
    "\n",
    "    while i < len(agnt):\n",
    "\n",
    "        agnt[i].iniciarLimpeza(1000)\n",
    "        val = agnt[i].pontuacao\n",
    "        soma += val\n",
    "        print(f'Caso {i + 1}: \\nPontuação = {val}\\n')\n",
    "        i += 1\n",
    "\n",
    "    print(f'Média total: {soma / len(agnt) :.2f}')\n",
    "  "
   ]
  }
 ],
 "metadata": {
  "kernelspec": {
   "display_name": "Python 3 (ipykernel)",
   "language": "python",
   "name": "python3"
  },
  "language_info": {
   "codemirror_mode": {
    "name": "ipython",
    "version": 3
   },
   "file_extension": ".py",
   "mimetype": "text/x-python",
   "name": "python",
   "nbconvert_exporter": "python",
   "pygments_lexer": "ipython3",
   "version": "3.8.10"
  }
 },
 "nbformat": 4,
 "nbformat_minor": 4
}
