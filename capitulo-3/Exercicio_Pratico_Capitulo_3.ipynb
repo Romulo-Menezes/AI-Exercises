{
 "cells": [
  {
   "cell_type": "markdown",
   "id": "233cd084",
   "metadata": {},
   "source": [
    "## Exercício Prático 1 - 8-Puzzle\n",
    "### Sua tarefa consiste de implementar três agentes guiados a objetivo para que resolvam o problema do 8-puzzle.\n",
    "\n",
    " O agente BFS corresponde à busca em largura. Já o agente DFS corresponde à busca em profundidade. \n",
    "\n",
    " Por fim, o agente IDFS por aprofundamento iterativo.\n",
    "\n",
    " Cabe ressaltar que, cada movimento apresenta custo 1. A função sucessora leva sempre a estados válidos."
   ]
  },
  {
   "cell_type": "markdown",
   "id": "4ad23c3a",
   "metadata": {},
   "source": [
    "## Importes"
   ]
  },
  {
   "cell_type": "code",
   "execution_count": 1,
   "id": "283cfd5f",
   "metadata": {},
   "outputs": [],
   "source": [
    "import timeit\n",
    "import resource\n",
    "from collections import deque"
   ]
  },
  {
   "cell_type": "markdown",
   "id": "f9ef8d4a",
   "metadata": {},
   "source": [
    "## Classe do Nó"
   ]
  },
  {
   "cell_type": "code",
   "execution_count": 2,
   "id": "b844c365",
   "metadata": {},
   "outputs": [],
   "source": [
    "class Node():\n",
    "    def __init__(self, tabela, noPai, movimento, profundidade):\n",
    "        self.tabela = tabela\n",
    "        self.movimento = movimento\n",
    "        self.profundidade = profundidade\n",
    "        self.pai = noPai\n",
    "        self.nosFilho = list()\n",
    "        self.ehMeta = self.__verificarMeta()\n",
    "        self.map = self.__map()\n",
    "\n",
    "    def imprimirPuzzle(self):\n",
    "        #print(f'Movimento: {self.movimento}\\nProfundidade: {self.profundidade}')\n",
    "        print(f'| {self.tabela[0]} {self.tabela[1]} {self.tabela[2]} |')\n",
    "        print(f'| {self.tabela[3]} {self.tabela[4]} {self.tabela[5]} |')\n",
    "        print(f'| {self.tabela[6]} {self.tabela[7]} {self.tabela[8]} |\\n')\n",
    "\n",
    "    def gerarFilhos(self):\n",
    "        posZero = self.__posicaoZero()\n",
    "\n",
    "        if posZero - 3 >= 0 and self.movimento != 'Cima':\n",
    "            novaTabela = self.tabela.copy()\n",
    "            novaTabela[posZero], novaTabela[posZero - 3] = novaTabela[posZero - 3], novaTabela[posZero]\n",
    "            self.nosFilho.append(Node(novaTabela, self, 'Baixo', self.profundidade + 1))\n",
    "\n",
    "        if posZero + 3 < len(self.tabela) and self.movimento != 'Baixo':\n",
    "            novaTabela = self.tabela.copy()\n",
    "            novaTabela[posZero], novaTabela[posZero + 3] = novaTabela[posZero + 3], novaTabela[posZero]\n",
    "            self.nosFilho.append(Node(novaTabela, self, 'Cima', self.profundidade + 1))\n",
    "\n",
    "        if posZero % 3 > 0 and self.movimento != 'Esquerda':\n",
    "            novaTabela = self.tabela.copy()\n",
    "            novaTabela[posZero], novaTabela[posZero - 1] = novaTabela[posZero - 1], novaTabela[posZero]\n",
    "            self.nosFilho.append(Node(novaTabela, self, 'Direita', self.profundidade + 1))\n",
    "\n",
    "        if posZero % 3 < 2 and self.movimento != 'Direita':\n",
    "            novaTabela = self.tabela.copy()\n",
    "            novaTabela[posZero], novaTabela[posZero + 1] = novaTabela[posZero + 1], novaTabela[posZero]\n",
    "            self.nosFilho.append(Node(novaTabela, self, 'Esquerda', self.profundidade + 1))\n",
    "\n",
    "    def __posicaoZero(self):\n",
    "        i = 0\n",
    "        while i < len(self.tabela):\n",
    "            if self.tabela[i] == 0:\n",
    "                break\n",
    "            i += 1\n",
    "        return i\n",
    "\n",
    "    def __verificarMeta(self):\n",
    "        return self.tabela == [0, 1, 2, 3, 4, 5, 6, 7, 8]\n",
    "\n",
    "    def __map(self):\n",
    "        return ''.join(str(val) for val in self.tabela)"
   ]
  },
  {
   "cell_type": "markdown",
   "id": "2729331b",
   "metadata": {},
   "source": [
    "## Função da BFS"
   ]
  },
  {
   "cell_type": "code",
   "execution_count": 3,
   "id": "544bdef9",
   "metadata": {},
   "outputs": [],
   "source": [
    "def bfs(noInicial):\n",
    "    visitados, fronteira = set(), deque([noInicial])\n",
    "    max_front = 0\n",
    "    while fronteira:\n",
    "        noAtual = fronteira.popleft()\n",
    "        visitados.add(noAtual.map)\n",
    "\n",
    "        if noAtual.ehMeta:\n",
    "            return [noAtual, len(fronteira), max_front, len(visitados)]\n",
    "\n",
    "        noAtual.gerarFilhos()\n",
    "        for vizinhoAtual in noAtual.nosFilho:\n",
    "            if vizinhoAtual.map not in visitados:\n",
    "                fronteira.append(vizinhoAtual)\n",
    "                visitados.add(vizinhoAtual.map)\n",
    "\n",
    "        if len(fronteira) > max_front:\n",
    "            max_front = len(fronteira)"
   ]
  },
  {
   "cell_type": "markdown",
   "id": "cd189374",
   "metadata": {},
   "source": [
    "## Função da DFS"
   ]
  },
  {
   "cell_type": "code",
   "execution_count": 4,
   "id": "2319a5d1",
   "metadata": {},
   "outputs": [],
   "source": [
    "def dfs(noInicial):\n",
    "    visitados, fronteira = set(), list([noInicial])\n",
    "    max_front = 0\n",
    "\n",
    "    while fronteira:\n",
    "        noAtual = fronteira.pop()\n",
    "        visitados.add(noAtual.map)\n",
    "\n",
    "        if noAtual.ehMeta:\n",
    "            return [noAtual, len(fronteira), max_front, len(visitados)]\n",
    "\n",
    "        noAtual.gerarFilhos()\n",
    "        for vizinhoAtual in reversed(noAtual.nosFilho):\n",
    "            if vizinhoAtual.map not in visitados:\n",
    "                fronteira.append(vizinhoAtual)\n",
    "                visitados.add(vizinhoAtual.map)\n",
    "\n",
    "        if len(fronteira) > max_front:\n",
    "            max_front = len(fronteira)"
   ]
  },
  {
   "cell_type": "markdown",
   "id": "d1204992",
   "metadata": {},
   "source": [
    "## Função da IDFS"
   ]
  },
  {
   "cell_type": "code",
   "execution_count": 5,
   "id": "7deb4017",
   "metadata": {},
   "outputs": [],
   "source": [
    "def idfs(noInicial):\n",
    "     max_alt = 1\n",
    "     while True:\n",
    "        visitados, fronteira = set(), list([noInicial])\n",
    "        max_front = 0\n",
    "        while fronteira:\n",
    "            noAtual = fronteira.pop()\n",
    "            visitados.add(noAtual.map)\n",
    "\n",
    "            if noAtual.ehMeta:\n",
    "                return [noAtual, len(fronteira), max_front, len(visitados)]\n",
    "\n",
    "            noAtual.gerarFilhos()\n",
    "            for vizinhoAtual in reversed(noAtual.nosFilho):\n",
    "                if vizinhoAtual.map not in visitados:\n",
    "                    if vizinhoAtual.profundidade <= max_alt:\n",
    "                        fronteira.append(vizinhoAtual)\n",
    "                        visitados.add(vizinhoAtual.map)\n",
    "\n",
    "            if len(fronteira) > max_front:\n",
    "                max_front = len(fronteira)\n",
    "\n",
    "        max_alt += 1"
   ]
  },
  {
   "cell_type": "markdown",
   "id": "80fe3c4d",
   "metadata": {},
   "source": [
    "## Função para obter o caminho da solução:"
   ]
  },
  {
   "cell_type": "code",
   "execution_count": 6,
   "id": "5916e433",
   "metadata": {},
   "outputs": [],
   "source": [
    "def obterCaminho(noFinal, noInicial):\n",
    "    sol = []\n",
    "    while noFinal.tabela != noInicial.tabela:\n",
    "        sol.append(noFinal.movimento)\n",
    "        #noFinal.imprimirPuzzle()\n",
    "        noFinal = noFinal.pai\n",
    "    sol.reverse()\n",
    "    print('Caminho:', end=' ')\n",
    "    print(sol)"
   ]
  },
  {
   "cell_type": "markdown",
   "id": "907ea681",
   "metadata": {},
   "source": [
    "## Main\n",
    "### Para rodar certo o programa insira a tabela e o método de busca da seguinte forma:\n",
    "\n",
    "> bfs x,x,x,x,x,x,x,x,x\n",
    "\n",
    "### O metodos de busca são:\n",
    "> bfs, dfs e idfs.\n",
    "\n",
    "### Coloque somente números de 0 até 8, separados por vírgula e sem repetir nenhum número.\n",
    "\n",
    "_Obs.: Foi considerado que zero é o espaço vazio, então as peças se movem para a posição do zero_"
   ]
  },
  {
   "cell_type": "code",
   "execution_count": 7,
   "id": "2cf9417d",
   "metadata": {},
   "outputs": [
    {
     "name": "stdout",
     "output_type": "stream",
     "text": [
      "Insira a tabela e o método de busca da seguinte forma: bfs x,x,x,x,x,x,x,x,x\n",
      "bfs 0,8,7,6,5,4,3,2,1\n",
      "Entrada:\n",
      "| 0 8 7 |\n",
      "| 6 5 4 |\n",
      "| 3 2 1 |\n",
      "\n",
      "Saida:\n",
      "| 0 1 2 |\n",
      "| 3 4 5 |\n",
      "| 6 7 8 |\n",
      "\n",
      "Caminho: ['Cima', 'Esquerda', 'Cima', 'Esquerda', 'Baixo', 'Baixo', 'Direita', 'Cima', 'Cima', 'Esquerda', 'Baixo', 'Baixo', 'Direita', 'Cima', 'Cima', 'Direita', 'Baixo', 'Baixo', 'Esquerda', 'Cima', 'Cima', 'Direita', 'Baixo', 'Esquerda', 'Cima', 'Esquerda', 'Baixo', 'Direita', 'Baixo', 'Direita']\n",
      "Custo do caminho: 30\n",
      "Nós visitados: 181440\n",
      "Tamanho da fronteira: 16\n",
      "Tamanho máximo da fronteira: 24048\n",
      "Profundidade da pesquisa: 30\n",
      "Profundidade da pesquisa máxima: 31\n",
      "Tempo de execução: 2.10797\n",
      "Máxima memória ram usada: 211.76\n"
     ]
    }
   ],
   "source": [
    "def executar():\n",
    "\n",
    "    print('Insira a tabela e o método de busca da seguinte forma: bfs x,x,x,x,x,x,x,x,x')\n",
    "    entrada = input()\n",
    "\n",
    "    metodo = entrada.split(' ')[0]\n",
    "    dados = entrada.split(' ')[1].split(',')\n",
    "    tabela = []\n",
    "    result = None\n",
    "    tudoCerto = True\n",
    "    for val in dados:\n",
    "        tabela.append(int(val))\n",
    "\n",
    "    puzzle = Node(tabela, None, None, 0)\n",
    "    print('Entrada:')\n",
    "    puzzle.imprimirPuzzle()\n",
    "\n",
    "    comeco = timeit.default_timer()\n",
    "\n",
    "    if metodo == 'bfs':\n",
    "        result = bfs(puzzle)\n",
    "    elif metodo == 'dfs':\n",
    "        result = bfs(puzzle)\n",
    "    elif metodo == 'idfs':\n",
    "        result = idfs(puzzle)\n",
    "    else:\n",
    "        print('Método Inválido')\n",
    "        tudoCerto = False\n",
    "\n",
    "    fim = timeit.default_timer() - comeco\n",
    "\n",
    "    if tudoCerto:\n",
    "        print('Saida:')\n",
    "        result[0].imprimirPuzzle()\n",
    "        obterCaminho(result[0], puzzle)\n",
    "        print(f'Custo do caminho: {result[0].profundidade}\\n'\n",
    "              f'Nós visitados: {result[3]}\\n'\n",
    "              f'Tamanho da fronteira: {result[1]}\\n'\n",
    "              f'Tamanho máximo da fronteira: {result[2]}\\n'\n",
    "              f'Profundidade da pesquisa: {result[0].profundidade}\\n'\n",
    "              f'Profundidade da pesquisa máxima: {result[0].profundidade + 1}\\n'\n",
    "              f'Tempo de execução: {fim:.5f}\\n'\n",
    "              f'Máxima memória ram usada: {resource.getrusage(resource.RUSAGE_SELF).ru_maxrss/1000.0}')\n",
    "\n",
    "if __name__ == \"__main__\":\n",
    "    executar()"
   ]
  }
 ],
 "metadata": {
  "kernelspec": {
   "display_name": "Python 3 (ipykernel)",
   "language": "python",
   "name": "python3"
  },
  "language_info": {
   "codemirror_mode": {
    "name": "ipython",
    "version": 3
   },
   "file_extension": ".py",
   "mimetype": "text/x-python",
   "name": "python",
   "nbconvert_exporter": "python",
   "pygments_lexer": "ipython3",
   "version": "3.8.10"
  }
 },
 "nbformat": 4,
 "nbformat_minor": 5
}
